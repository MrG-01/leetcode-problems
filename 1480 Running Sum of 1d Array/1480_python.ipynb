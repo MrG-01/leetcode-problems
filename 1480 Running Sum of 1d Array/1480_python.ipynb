{
 "cells": [
  {
   "cell_type": "markdown",
   "id": "c263ff74-91ea-432d-9d2d-bb04a05cdbdb",
   "metadata": {},
   "source": [
    "## 1480 Running Sum of 1d Array\n",
    "\n",
    "Given an array `nums` we define a running sum of an array `runningSum[i] = sum(nums[0]....nums[i])`\n",
    "\n",
    "* The number of nodes is in range `[1,1000]`.\n",
    "* The value of each element in the array is `[-10^6, 10^6]`\n",
    "\n",
    "**Example**\n",
    "\n",
    "Input -> `[3,1,2,10,1]`  \n",
    "Output -> `[3,4,6,16,17]`"
   ]
  },
  {
   "cell_type": "code",
   "execution_count": 15,
   "id": "6a62c1cd-1a21-4139-8199-526ec290f855",
   "metadata": {},
   "outputs": [],
   "source": [
    "## Solution 1\n",
    "\n",
    "from typing import List\n",
    "\n",
    "class Solution:\n",
    "\n",
    "    def runningSum(self, nums: List[int]) -> List[int]:\n",
    "\n",
    "        for i in range(1,len(nums)):\n",
    "\n",
    "            nums[i] += nums[i-1]\n",
    "\n",
    "        return nums"
   ]
  },
  {
   "cell_type": "code",
   "execution_count": 18,
   "id": "70a09805-408a-446f-924f-4002d4d56b30",
   "metadata": {},
   "outputs": [
    {
     "name": "stdout",
     "output_type": "stream",
     "text": [
      "[3, 4, 6, 16, 17]\n"
     ]
    }
   ],
   "source": [
    "solution = Solution()\n",
    "\n",
    "print(solution.runningSum(nums = [3,1,2,10,1]))"
   ]
  }
 ],
 "metadata": {
  "kernelspec": {
   "display_name": "Python 3 (ipykernel)",
   "language": "python",
   "name": "python3"
  },
  "language_info": {
   "codemirror_mode": {
    "name": "ipython",
    "version": 3
   },
   "file_extension": ".py",
   "mimetype": "text/x-python",
   "name": "python",
   "nbconvert_exporter": "python",
   "pygments_lexer": "ipython3",
   "version": "3.12.9"
  }
 },
 "nbformat": 4,
 "nbformat_minor": 5
}
