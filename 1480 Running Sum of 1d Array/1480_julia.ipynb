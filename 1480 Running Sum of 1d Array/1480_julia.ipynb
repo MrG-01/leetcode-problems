{
 "cells": [
  {
   "cell_type": "markdown",
   "id": "82061565-52fc-44fb-9f0f-13d184a53e56",
   "metadata": {},
   "source": [
    "## 1672 Richest Customer Wealth\n",
    "\n",
    "You are given an m x n integer grid accounts where accounts[i][j] is the amount of money the i​​​​​​​​​​​th​​​​ customer has in the j​​​​​​​​​​​th​​​​ bank. Return the wealth that the richest customer has.\n",
    "\n",
    "A customer's wealth is the amount of money they have in all their bank accounts. The richest customer is the customer that has the maximum wealth.\n",
    "\n",
    "Input: accounts = [[1,2,3],[3,2,1]]  \n",
    "Output: 6"
   ]
  },
  {
   "cell_type": "code",
   "execution_count": 23,
   "id": "9f03e4e3-cccc-4405-9c6b-9346c602cce3",
   "metadata": {},
   "outputs": [
    {
     "data": {
      "text/plain": [
       "maximumSum (generic function with 1 method)"
      ]
     },
     "execution_count": 23,
     "metadata": {},
     "output_type": "execute_result"
    }
   ],
   "source": [
    "function maximumSum(list_of_lists)\n",
    "\n",
    "    max_sum = 0\n",
    "\n",
    "    current_sum = 0\n",
    "\n",
    "    for inner_list in list_of_lists\n",
    "        current_sum = sum(inner_list)\n",
    "\n",
    "        if current_sum > max_sum\n",
    "            max_sum = current_sum\n",
    "\n",
    "        end\n",
    "\n",
    "    end\n",
    "\n",
    "    return max_sum\n",
    "\n",
    "end"
   ]
  },
  {
   "cell_type": "code",
   "execution_count": 32,
   "id": "cdfbd0eb-b880-4325-bbfe-018aa0c871d5",
   "metadata": {},
   "outputs": [
    {
     "name": "stdout",
     "output_type": "stream",
     "text": [
      "6\n",
      "  0.000065 seconds (29 allocations: 712 bytes)\n"
     ]
    }
   ],
   "source": [
    "function main()\n",
    "    data = [[1,2,3],[3,2,1]]\n",
    "    max_val = maximumSum(data)\n",
    "    println(max_val)\n",
    "\n",
    "end\n",
    "\n",
    "@time main()"
   ]
  }
 ],
 "metadata": {
  "kernelspec": {
   "display_name": "Julia 1.11.4",
   "language": "julia",
   "name": "julia-1.11"
  },
  "language_info": {
   "file_extension": ".jl",
   "mimetype": "application/julia",
   "name": "julia",
   "version": "1.11.4"
  }
 },
 "nbformat": 4,
 "nbformat_minor": 5
}
