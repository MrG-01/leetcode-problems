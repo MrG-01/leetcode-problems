{
 "cells": [
  {
   "cell_type": "markdown",
   "id": "06b7ff5f-2ac9-4742-91fe-c606ed7d9c31",
   "metadata": {},
   "source": [
    "### 13. Roman to Integer\n",
    "\n",
    "Roman numerals are represented by seven different symbols: I, V, X, L, C, D and M.\n",
    "\n",
    "Symbol       Value\n",
    "I             1\n",
    "V             5\n",
    "X             10\n",
    "L             50\n",
    "C             100\n",
    "D             500\n",
    "M             1000\n",
    "\n",
    "For example, 2 is written as II in Roman numeral, just two ones added together. 12 is written as XII, which is simply X + II. The number 27 is written as XXVII, which is XX + V + II.\n",
    "\n",
    "Roman numerals are usually written largest to smallest from left to right. However, the numeral for four is not IIII. Instead, the number four is written as IV. Because the one is before the five we subtract it making four. The same principle applies to the number nine, which is written as IX. There are six instances where subtraction is used:\n",
    "\n",
    "    I can be placed before V (5) and X (10) to make 4 and 9. \n",
    "    X can be placed before L (50) and C (100) to make 40 and 90. \n",
    "    C can be placed before D (500) and M (1000) to make 400 and 900.\n",
    "\n",
    "Given a roman numeral, convert it to an integer.\n",
    "\n",
    "Example 1:\n",
    "\n",
    "```\n",
    "Input: s = \"III\"  \n",
    "Output: 3  \n",
    "Explanation: III = 3.\n",
    "```"
   ]
  },
  {
   "cell_type": "code",
   "execution_count": 46,
   "id": "c648b10b-4f3f-4548-9178-6740e989ada3",
   "metadata": {},
   "outputs": [],
   "source": [
    "class Solution:\n",
    "    def romanToInt(self, s: str) -> int:\n",
    "\n",
    "        roman_to_num = {'I': 1, 'V': 5, 'X': 10, 'L': 50, 'C': 100, 'D': 500, 'M': 1000}\n",
    "\n",
    "        total = 0\n",
    "\n",
    "        for i in s:\n",
    "\n",
    "            for key, value in roman_to_num.items():\n",
    "\n",
    "                if key in s:\n",
    "\n",
    "                    total += value\n",
    "\n",
    "                break\n",
    "        \n",
    "        print(total)"
   ]
  },
  {
   "cell_type": "code",
   "execution_count": 48,
   "id": "1f5a4069-35a2-4d36-90f8-1554f3ea99b5",
   "metadata": {},
   "outputs": [],
   "source": [
    "class Solution:\n",
    "    def romanToInt(self, s: str) -> int:\n",
    "\n",
    "        roman_to_num = {'I': 1, 'V': 5, 'X': 10, 'L': 50, 'C': 100, 'D': 500, 'M': 1000}\n",
    "\n",
    "        total = 0\n",
    "\n",
    "        for key, value in roman_to_num.items():\n",
    "\n",
    "            if key in s:\n",
    "\n",
    "                total += value\n",
    "\n",
    "            break\n",
    "        \n",
    "        print(total)"
   ]
  },
  {
   "cell_type": "code",
   "execution_count": 50,
   "id": "3b831d0b-2ed4-4e95-8dbd-fa350840bdc9",
   "metadata": {},
   "outputs": [
    {
     "name": "stdout",
     "output_type": "stream",
     "text": [
      "1\n",
      "None\n"
     ]
    }
   ],
   "source": [
    "solution = Solution()\n",
    "\n",
    "s = \"III\"\n",
    "\n",
    "print(solution.romanToInt(s))"
   ]
  },
  {
   "cell_type": "code",
   "execution_count": 163,
   "id": "11972ef6-d031-4244-a944-11c2a64b6e88",
   "metadata": {},
   "outputs": [],
   "source": [
    "class Solution:\n",
    "    def romanToInt(self, s: str) -> int:\n",
    "\n",
    "        roman_to_num = {'I': 1, 'V': 5, 'X': 10, 'L': 50, 'C': 100, 'D': 500, 'M': 1000}\n",
    "\n",
    "        total = 0\n",
    "        \n",
    "        translation = [roman_to_num[char] for char in s if char in roman_to_num]\n",
    "\n",
    "        print(translation)\n",
    "\n",
    "        if translation[0] < translation[1]:\n",
    "\n",
    "            total = sum(translation) - 2*translation[0]\n",
    "        \n",
    "        else:\n",
    "            total = sum(translation)\n",
    "\n",
    "        print(total)"
   ]
  },
  {
   "cell_type": "code",
   "execution_count": 169,
   "id": "4455ee37-3f49-424a-b9cb-96cf4e81cc1c",
   "metadata": {},
   "outputs": [
    {
     "name": "stdout",
     "output_type": "stream",
     "text": [
      "[1000, 100, 1000, 10, 100, 1, 5]\n",
      "2216\n",
      "None\n"
     ]
    }
   ],
   "source": [
    "solution = Solution()\n",
    "\n",
    "s = \"MCMXCIV\"\n",
    "\n",
    "print(solution.romanToInt(s))"
   ]
  },
  {
   "cell_type": "code",
   "execution_count": 173,
   "id": "cb1a577f-6873-49b9-ba3b-1759c65187bd",
   "metadata": {},
   "outputs": [],
   "source": [
    "class Solution:\n",
    "    def romanToInt(self, s: str) -> int:\n",
    "\n",
    "        roman_to_num = {'I': 1, 'V': 5, 'X': 10, 'L': 50, 'C': 100, 'D': 500, 'M': 1000}\n",
    "        \n",
    "        translation = [roman_to_num[char] for char in s if char in roman_to_num]\n",
    "\n",
    "        for i in range(len(translation) - 1):\n",
    "\n",
    "            if translation[i] < translation[i+1]:\n",
    "\n",
    "                translation[i] = -translation[i]\n",
    "\n",
    "        return sum(translation)"
   ]
  },
  {
   "cell_type": "code",
   "execution_count": 174,
   "id": "bb5faf59-1885-4e9a-9bd8-d7624ae0f141",
   "metadata": {},
   "outputs": [
    {
     "name": "stdout",
     "output_type": "stream",
     "text": [
      "[1, 10]\n",
      "[-1, 10]\n"
     ]
    }
   ],
   "source": [
    "solution = Solution()\n",
    "\n",
    "s = \"IX\"\n",
    "\n",
    "print(solution.romanToInt(s))"
   ]
  }
 ],
 "metadata": {
  "kernelspec": {
   "display_name": "Python 3 (ipykernel)",
   "language": "python",
   "name": "python3"
  },
  "language_info": {
   "codemirror_mode": {
    "name": "ipython",
    "version": 3
   },
   "file_extension": ".py",
   "mimetype": "text/x-python",
   "name": "python",
   "nbconvert_exporter": "python",
   "pygments_lexer": "ipython3",
   "version": "3.12.9"
  }
 },
 "nbformat": 4,
 "nbformat_minor": 5
}
