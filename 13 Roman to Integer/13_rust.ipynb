{
 "cells": [
  {
   "cell_type": "code",
   "execution_count": 49,
   "id": "c6ae07ef-ce67-464d-ad80-ecd82489b735",
   "metadata": {},
   "outputs": [],
   "source": [
    "use std::collections::HashMap;\n",
    "\n",
    "impl Solution {\n",
    "\n",
    "    pub fn romanToInt(string: &str) -> i32 {\n",
    "    \n",
    "        let mut roman2num = HashMap::new();\n",
    "        let mut result: Vec<i32> = Vec::new();\n",
    "    \n",
    "    \n",
    "        roman2num.insert('I', 1);\n",
    "        roman2num.insert('V', 5);\n",
    "        roman2num.insert('X', 10);\n",
    "        roman2num.insert('L', 50);\n",
    "        roman2num.insert('C', 100);\n",
    "        roman2num.insert('D', 500);\n",
    "        roman2num.insert('M', 1000);\n",
    "    \n",
    "        // println!(\"Scores: {:?}\", roman2num);\n",
    "    \n",
    "        for character in string.chars() {\n",
    "    \n",
    "            match roman2num.get(&character) {\n",
    "                Some(value) => result.push(*value),\n",
    "                None => result.push(0), // Push to 0 if not in the map\n",
    "            }\n",
    "    \n",
    "        }\n",
    "    \n",
    "        let len = result.len() - 1;\n",
    "    \n",
    "        if len > 0 {\n",
    "            \n",
    "            for i in 0..len {\n",
    "        \n",
    "                if result[i] < result[i+1]{\n",
    "        \n",
    "                    result[i] = -result[i];\n",
    "                }\n",
    "        \n",
    "            }\n",
    "        }\n",
    "    \n",
    "        let sum: i32 = result.iter().sum();\n",
    "    \n",
    "        return sum\n",
    "    }\n",
    "\n",
    "}"
   ]
  },
  {
   "cell_type": "code",
   "execution_count": 50,
   "id": "e4f4ed72-6414-4383-8159-2714c7bd2ecc",
   "metadata": {},
   "outputs": [
    {
     "name": "stdout",
     "output_type": "stream",
     "text": [
      "19\n"
     ]
    },
    {
     "data": {
      "text/plain": [
       "()"
      ]
     },
     "execution_count": 50,
     "metadata": {},
     "output_type": "execute_result"
    }
   ],
   "source": [
    "let string = \"XIX\";\n",
    "let value = romanToInt(string);\n",
    "println!(\"{:?}\", value)"
   ]
  }
 ],
 "metadata": {
  "kernelspec": {
   "display_name": "Rust",
   "language": "rust",
   "name": "rust"
  },
  "language_info": {
   "codemirror_mode": "rust",
   "file_extension": ".rs",
   "mimetype": "text/rust",
   "name": "Rust",
   "pygment_lexer": "rust",
   "version": ""
  }
 },
 "nbformat": 4,
 "nbformat_minor": 5
}
