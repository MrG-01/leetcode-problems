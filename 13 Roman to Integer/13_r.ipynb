{
 "cells": [
  {
   "cell_type": "code",
   "execution_count": 13,
   "id": "3cbf89ed-658a-4101-b81f-ebd1c5d5ae29",
   "metadata": {},
   "outputs": [],
   "source": [
    "library(hash)\n",
    "\n",
    "romanToInt <- function(string) {\n",
    "  roman_to_num <- hash(\n",
    "    \"I\" = 1,\n",
    "    \"V\" = 5,\n",
    "    \"X\" = 10,\n",
    "    \"L\" = 50,\n",
    "    \"C\" = 100,\n",
    "    \"D\" = 500, # Added 'D' for completeness if you might encounter it\n",
    "    \"M\" = 1000\n",
    "  )\n",
    "\n",
    "  input <- strsplit(string, \"\")[[1]]\n",
    "  n <- length(input)\n",
    "  result <- 0\n",
    "  i <- 1\n",
    "\n",
    "  while (i <= n) {\n",
    "    current_val <- roman_to_num[[input[i]]]\n",
    "\n",
    "    if (i < n) {\n",
    "      next_val <- roman_to_num[[input[i + 1]]]\n",
    "      if (!is.null(next_val) && current_val < next_val) {\n",
    "        result <- result + (next_val - current_val)\n",
    "        i <- i + 2 # Skip the next numeral as it's already processed\n",
    "      } else {\n",
    "        result <- result + current_val\n",
    "        i <- i + 1\n",
    "      }\n",
    "    } else {\n",
    "      result <- result + current_val\n",
    "      i <- i + 1\n",
    "    }\n",
    "  }\n",
    "  return(result)\n",
    "}"
   ]
  },
  {
   "cell_type": "code",
   "execution_count": 10,
   "id": "42c3a26c-cc9b-447d-a5d4-2e7ead497ae1",
   "metadata": {},
   "outputs": [
    {
     "name": "stdout",
     "output_type": "stream",
     "text": [
      "[1] \"The integer value of MCMXCIV is: 1994\"\n"
     ]
    }
   ],
   "source": [
    "# Example usage:\n",
    "roman_number <- \"MCMXCIV\"\n",
    "integer_value <- romanToInt(roman_number)\n",
    "print(paste(\"The integer value of\", roman_number, \"is:\", integer_value))"
   ]
  },
  {
   "cell_type": "code",
   "execution_count": 11,
   "id": "4ee06ad0-5781-4d26-8d7d-c824ef4e15e8",
   "metadata": {},
   "outputs": [
    {
     "name": "stdout",
     "output_type": "stream",
     "text": [
      "[1] \"The integer value of LVIII is: 58\"\n"
     ]
    }
   ],
   "source": [
    "roman_number2 <- \"LVIII\"\n",
    "integer_value2 <- romanToInt(roman_number2)\n",
    "print(paste(\"The integer value of\", roman_number2, \"is:\", integer_value2))"
   ]
  },
  {
   "cell_type": "code",
   "execution_count": 12,
   "id": "47664370-1805-44c8-b5eb-7acede4e3e6b",
   "metadata": {},
   "outputs": [
    {
     "name": "stdout",
     "output_type": "stream",
     "text": [
      "[1] \"The integer value of IX is: 9\"\n"
     ]
    }
   ],
   "source": [
    "roman_number3 <- \"IX\"\n",
    "integer_value3 <- romanToInt(roman_number3)\n",
    "print(paste(\"The integer value of\", roman_number3, \"is:\", integer_value3))"
   ]
  }
 ],
 "metadata": {
  "kernelspec": {
   "display_name": "R",
   "language": "R",
   "name": "ir"
  },
  "language_info": {
   "codemirror_mode": "r",
   "file_extension": ".r",
   "mimetype": "text/x-r-source",
   "name": "R",
   "pygments_lexer": "r",
   "version": "4.3.3"
  }
 },
 "nbformat": 4,
 "nbformat_minor": 5
}
