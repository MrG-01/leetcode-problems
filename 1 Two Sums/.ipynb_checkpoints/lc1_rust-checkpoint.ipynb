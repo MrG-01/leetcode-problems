{
 "cells": [
  {
   "cell_type": "markdown",
   "id": "4d266137-c737-4f05-a459-417d59795aca",
   "metadata": {},
   "source": [
    "### LC1: Given an array of integers `nums` and an integer `target`, return indices of the two numbers such that they add up to target.\n",
    "\n",
    "You may assume that each input would have exactly one solution, and you may not use the same element twice.\n",
    "\n",
    "You can return the answer in any order."
   ]
  },
  {
   "cell_type": "markdown",
   "id": "a7aeb32b-fb84-444f-95ca-a699aeb481aa",
   "metadata": {},
   "source": [
    "### Solution 1"
   ]
  },
  {
   "cell_type": "code",
   "execution_count": 24,
   "id": "979eaad6-1bb8-445a-92d4-574ff59a6852",
   "metadata": {},
   "outputs": [
    {
     "data": {
      "text/plain": [
       "Some((0, 1))"
      ]
     },
     "execution_count": 24,
     "metadata": {},
     "output_type": "execute_result"
    }
   ],
   "source": [
    ":dep hashbrown = \"0.13\"\n",
    "use hashbrown::HashMap;\n",
    "\n",
    "fn two_sum(nums: &[i32], target: i32) -> Option<(usize, usize)> {\n",
    "    let mut map = HashMap::new();\n",
    "    \n",
    "    for (i, &num) in nums.iter().enumerate() {\n",
    "        let complement = target - num;\n",
    "        \n",
    "        if let Some(&j) = map.get(&complement) {\n",
    "            return Some((j, i));\n",
    "        }\n",
    "        \n",
    "        map.insert(num, i);\n",
    "    }\n",
    "    \n",
    "    None\n",
    "}\n",
    "\n",
    "// Test case\n",
    "let nums = vec![2, 7, 11, 15];\n",
    "let target = 9;\n",
    "two_sum(&nums, target)  // This will auto-print the result"
   ]
  }
 ],
 "metadata": {
  "kernelspec": {
   "display_name": "Rust",
   "language": "rust",
   "name": "rust"
  },
  "language_info": {
   "codemirror_mode": "rust",
   "file_extension": ".rs",
   "mimetype": "text/rust",
   "name": "Rust",
   "pygment_lexer": "rust",
   "version": ""
  }
 },
 "nbformat": 4,
 "nbformat_minor": 5
}
