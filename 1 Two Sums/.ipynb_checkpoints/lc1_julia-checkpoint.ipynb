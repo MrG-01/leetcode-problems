{
 "cells": [
  {
   "cell_type": "markdown",
   "id": "2faba29e-22af-41b3-a40b-06ef73ced769",
   "metadata": {},
   "source": [
    "### LC1: Given an array of integers `nums` and an integer `target`, return indices of the two numbers such that they add up to target.\n",
    "\n",
    "You may assume that each input would have exactly one solution, and you may not use the same element twice.\n",
    "\n",
    "You can return the answer in any order."
   ]
  },
  {
   "cell_type": "code",
   "execution_count": 15,
   "id": "ce3cf3a7-db10-42b0-8d38-3da866213283",
   "metadata": {},
   "outputs": [
    {
     "data": {
      "text/plain": [
       "twoSum (generic function with 1 method)"
      ]
     },
     "execution_count": 15,
     "metadata": {},
     "output_type": "execute_result"
    }
   ],
   "source": [
    "## Solution 1\n",
    "\n",
    "function twoSum(nums::Vector{Int}, target::Int)::Vector{Int}\n",
    "    hashmap = Dict{Int,Int}()\n",
    "    for (a,num) in enumerate(nums)\n",
    "            complement = target - num\n",
    "            if haskey(hashmap, complement)\n",
    "                return[hashmap[complement], a]\n",
    "        end\n",
    "        hashmap[num] = a\n",
    "    end\n",
    "    return Int[]\n",
    "end"
   ]
  },
  {
   "cell_type": "code",
   "execution_count": 16,
   "id": "79af1db8-1f7c-4b28-9125-726ef24086d0",
   "metadata": {},
   "outputs": [
    {
     "name": "stdout",
     "output_type": "stream",
     "text": [
      "[1, 2]\n"
     ]
    }
   ],
   "source": [
    "println(twoSum([2,7,11,15], 9))"
   ]
  }
 ],
 "metadata": {
  "kernelspec": {
   "display_name": "Julia 1.11.4",
   "language": "julia",
   "name": "julia-1.11"
  },
  "language_info": {
   "file_extension": ".jl",
   "mimetype": "application/julia",
   "name": "julia",
   "version": "1.11.4"
  }
 },
 "nbformat": 4,
 "nbformat_minor": 5
}
