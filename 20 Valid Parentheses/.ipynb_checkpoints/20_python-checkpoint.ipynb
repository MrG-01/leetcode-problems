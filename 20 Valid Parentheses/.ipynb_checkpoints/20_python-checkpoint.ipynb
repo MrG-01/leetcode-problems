{
 "cells": [
  {
   "cell_type": "markdown",
   "id": "26f0b898-c317-4e7d-832e-bd3c749f0278",
   "metadata": {},
   "source": [
    "### 20. Given a string s containing just the characters `'('`, `')'`, `'{'`, `'}'`, `'['` and `']'`, determine if the input string is valid.\n",
    "\n",
    "An input string is valid if:\n",
    "\n",
    "* Open brackets must be closed by the same type of brackets.\n",
    "* Open brackets must be closed in the correct order.\n",
    "* Every close bracket has a corresponding open bracket of the same type.\n",
    "\n",
    "**Constraints**:\n",
    "\n",
    "* 1 <= s.length <= 104\n",
    "* s consists of parentheses only '()[]{}'.\n",
    "\n",
    "```\n",
    "Example 1:\n",
    "\n",
    "Input: s = \"()\"\n",
    "\n",
    "Output: true\n",
    "\n",
    "Example 2:\n",
    "\n",
    "Input: s = \"()[]{}\"\n",
    "\n",
    "Output: true\n",
    "\n",
    "Example 3:\n",
    "\n",
    "Input: s = \"(]\"\n",
    "\n",
    "Output: false\n",
    "\n",
    "Example 4:\n",
    "\n",
    "Input: s = \"([])\"\n",
    "\n",
    "Output: true\n",
    "```"
   ]
  },
  {
   "cell_type": "code",
   "execution_count": 13,
   "id": "20b6e42f-f7d8-406e-b6df-a376c7c04e76",
   "metadata": {},
   "outputs": [],
   "source": [
    "class Solution:\n",
    "    def isValid(self, s: str) -> bool:\n",
    "\n",
    "        stack = []\n",
    "        bracket_map = {\")\": \"(\", \"]\": \"[\", \"}\": \"{\"}\n",
    "        open_brackets = set([\"(\", \"[\", \"{\"])\n",
    "\n",
    "        for char in s:\n",
    "\n",
    "            if char in \"({[\":\n",
    "\n",
    "                stack.append(char)\n",
    "\n",
    "            else if char in \")}]\":\n"
   ]
  },
  {
   "cell_type": "code",
   "execution_count": 14,
   "id": "1020f5fe-f754-4a47-b268-9e25719a439c",
   "metadata": {},
   "outputs": [
    {
     "name": "stdout",
     "output_type": "stream",
     "text": [
      "['(', '{', '[']\n"
     ]
    }
   ],
   "source": [
    "solution=Solution()\n",
    "\n",
    "print(solution.isValid(s=\"({[\"))"
   ]
  }
 ],
 "metadata": {
  "kernelspec": {
   "display_name": "Python 3 (ipykernel)",
   "language": "python",
   "name": "python3"
  },
  "language_info": {
   "codemirror_mode": {
    "name": "ipython",
    "version": 3
   },
   "file_extension": ".py",
   "mimetype": "text/x-python",
   "name": "python",
   "nbconvert_exporter": "python",
   "pygments_lexer": "ipython3",
   "version": "3.12.9"
  }
 },
 "nbformat": 4,
 "nbformat_minor": 5
}
