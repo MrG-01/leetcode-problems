{
 "cells": [
  {
   "cell_type": "code",
   "execution_count": 4,
   "id": "1dc6172b-e3de-4a44-aace-3276f4ac72d1",
   "metadata": {},
   "outputs": [
    {
     "name": "stdout",
     "output_type": "stream",
     "text": [
      "Original: 26 bytes\n",
      "Sorted: 26 bytes\n"
     ]
    }
   ],
   "source": [
    "import gzip, numpy as np\n",
    "\n",
    "# Original array (not a scalar)\n",
    "data_original = np.array([3, 1, 1, 2, 2, 2], dtype=np.int8)  # Redundant values\n",
    "compressed_original = len(.compress(data_original.tobytes()))\n",
    "\n",
    "# Sorted array (improves run-length redundancy)\n",
    "data_sorted = np.sort(data_original)  # [1, 1, 2, 2, 2, 3]\n",
    "compressed_sorted = len(gzip.compress(data_sorted.tobytes()))\n",
    "\n",
    "print(f\"Original: {compressed_original} bytes\")  # Example: 18 bytes\n",
    "print(f\"Sorted: {compressed_sorted} bytes\")     # Example: 16 bytes (smaller!)"
   ]
  },
  {
   "cell_type": "code",
   "execution_count": 5,
   "id": "4a169235-e5c1-4eff-be1f-3f9d51ccf313",
   "metadata": {},
   "outputs": [
    {
     "name": "stdout",
     "output_type": "stream",
     "text": [
      "Original: 17 bytes\n",
      "Sorted:   17 bytes\n"
     ]
    }
   ],
   "source": [
    "import numpy as np\n",
    "import zstandard as zstd\n",
    "\n",
    "# Example data (modify this to test different cases)\n",
    "data = np.array([3, 1, 4, 1, 5, 9, 2, 6], dtype=np.int8)  # Original array\n",
    "sorted_data = np.sort(data)  # Sorted array: [1, 1, 2, 3, 4, 5, 6, 9]\n",
    "\n",
    "# Initialize Zstd compressor\n",
    "cctx = zstd.ZstdCompressor(level=3)\n",
    "\n",
    "# Compress original and sorted arrays\n",
    "compressed_original = len(cctx.compress(data.tobytes()))\n",
    "compressed_sorted = len(cctx.compress(sorted_data.tobytes()))\n",
    "\n",
    "print(f\"Original: {compressed_original} bytes\")  # Example output: 14 bytes\n",
    "print(f\"Sorted:   {compressed_sorted} bytes\")   # Example output: 12 bytes"
   ]
  },
  {
   "cell_type": "code",
   "execution_count": 14,
   "id": "3e5bfa92-3700-490b-b89f-d6c4ebe7a092",
   "metadata": {},
   "outputs": [
    {
     "name": "stdout",
     "output_type": "stream",
     "text": [
      "Redunant: 19\n",
      "Nonredundant: 19\n"
     ]
    }
   ],
   "source": [
    "import numpy as np\n",
    "import zstandard as zstd\n",
    "\n",
    "# Case 1: Redundant data (sorting helps)\n",
    "data = np.array([3, 1, 1, 2, 2, 2, 3, 1, 2, 2], dtype=np.int8)\n",
    "compressed_original = len(zstd.ZstdCompressor().compress(data.tobytes()))  # 14 bytes\n",
    "compressed_sorted = len(zstd.ZstdCompressor().compress(np.sort(data).tobytes()))  # 12 bytes\n",
    "print(f\"Redunant: {compressed_original}\")\n",
    "\n",
    "# Case 2: No redundancy (sorting doesn't help)\n",
    "data = np.array([5, 7, 3, 4, 1, 9, 2, 8, 6, 10], dtype=np.int8)\n",
    "compressed_original = len(zstd.ZstdCompressor().compress(data.tobytes()))  # 11 bytes\n",
    "compressed_sorted = len(zstd.ZstdCompressor().compress(np.sort(data).tobytes()))  # 11 bytes\n",
    "print(f\"Nonredundant: {compressed_original}\")"
   ]
  }
 ],
 "metadata": {
  "kernelspec": {
   "display_name": "Python 3 (ipykernel)",
   "language": "python",
   "name": "python3"
  },
  "language_info": {
   "codemirror_mode": {
    "name": "ipython",
    "version": 3
   },
   "file_extension": ".py",
   "mimetype": "text/x-python",
   "name": "python",
   "nbconvert_exporter": "python",
   "pygments_lexer": "ipython3",
   "version": "3.12.9"
  }
 },
 "nbformat": 4,
 "nbformat_minor": 5
}
