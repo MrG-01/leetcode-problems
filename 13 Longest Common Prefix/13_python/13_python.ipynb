{
 "cells": [
  {
   "cell_type": "markdown",
   "id": "4a1fdab5-610b-4063-b84b-d08fdca12f8e",
   "metadata": {},
   "source": [
    "### 14. Longest Common Prefix\n",
    "\n",
    "Write a function to find the longest common prefix string amongst an array of strings.\n",
    "\n",
    "If there is no common prefix, return an empty string `\"\"`.\n",
    "\n",
    "#### Example 1:\n",
    "\n",
    "```\n",
    "Input: strs = [\"flower\",\"flow\",\"flight\"]  \n",
    "Output: \"fl\"\n",
    "```\n",
    "\n",
    "#### Example 2:\n",
    "\n",
    "```\n",
    "Input: strs = [\"dog\",\"racecar\",\"car\"]\n",
    "Output: \"\"\n",
    "Explanation: There is no common prefix among the input strings.\n",
    "```\n",
    "\n",
    "#### Constraints:\n",
    "\n",
    "* `1 <= strs.length <= 200`\n",
    "* `0 <= strs[i].length <= 200`\n",
    "* `strs[i]` consists of only lower-case English letters."
   ]
  },
  {
   "cell_type": "markdown",
   "id": "9ce928ed-5618-40eb-8b75-92aea19a56b7",
   "metadata": {},
   "source": [
    "Algorithm:\n",
    "\n",
    "1. Given a list of strings strs.\n",
    "\n",
    "2. If the list is empty, return an empty string.\n",
    "\n",
    "3. Find the shortest string in strs. Let's call it shortest_str.\n",
    "\n",
    "4. Initialize longest_common_substring = \"\".\n",
    "\n",
    "5. Iterate through all possible starting indices i in shortest_str (from 0 to len(shortest_str) - 1).\n",
    "\n",
    "6. For each starting index i, iterate through all possible ending indices j in shortest_str (from i to len(shortest_str) - 1).\n",
    "\n",
    "7. Extract the substring sub = shortest_str[i : j + 1].\n",
    "\n",
    "8. Assume this substring is common to all strings (is_common = True).\n",
    "\n",
    "9. Iterate through all other strings in strs (excluding shortest_str). For each other_str:\n",
    "    If sub is not found in other_str, set is_common = False and break the inner loop (no need to check further for this sub).\n",
    "\n",
    "10. If is_common is still True after checking all other strings:\n",
    "    If the length of sub is greater than the length of longest_common_substring, update longest_common_substring = sub.\n",
    "\n",
    "11. Return longest_common_substring."
   ]
  },
  {
   "cell_type": "code",
   "execution_count": 25,
   "id": "87d80576-31a8-4ce0-871a-014c84ce4e23",
   "metadata": {},
   "outputs": [],
   "source": [
    "from typing import List\n",
    "\n",
    "class Solution:\n",
    "\n",
    "    def LongestCommonPrefix(self, strs: List[str]) -> str:\n",
    "\n",
    "        if not strs:\n",
    "\n",
    "            return \"\"\n",
    "\n",
    "        if len(strs) == 1:\n",
    "\n",
    "            return strs[0]\n",
    "\n",
    "        shortest_str = min(strs, key=len)\n",
    "\n",
    "        for i, char in enumerate(shortest_str):\n",
    "\n",
    "            for other_str in strs[1:]:\n",
    "\n",
    "                if i == len(other_str) or other_str[i] != char:\n",
    "\n",
    "                    return shortest_str[:i]\n",
    "                    \n",
    "        return shortest_str"
   ]
  },
  {
   "cell_type": "code",
   "execution_count": 26,
   "id": "abd469c2-7f5d-4ba3-b2d3-390f390cdbaa",
   "metadata": {},
   "outputs": [
    {
     "name": "stdout",
     "output_type": "stream",
     "text": [
      "Longest common substring for ['flower', 'flow', 'flight'], is fl\n"
     ]
    }
   ],
   "source": [
    "solution = Solution()\n",
    "\n",
    "strs = [\"flower\",\"flow\",\"flight\"]\n",
    "\n",
    "result = solution.LongestCommonPrefix(strs)\n",
    "\n",
    "print(f\"Longest common substring for {strs}, is {result}\")"
   ]
  }
 ],
 "metadata": {
  "kernelspec": {
   "display_name": "Python 3 (ipykernel)",
   "language": "python",
   "name": "python3"
  },
  "language_info": {
   "codemirror_mode": {
    "name": "ipython",
    "version": 3
   },
   "file_extension": ".py",
   "mimetype": "text/x-python",
   "name": "python",
   "nbconvert_exporter": "python",
   "pygments_lexer": "ipython3",
   "version": "3.12.9"
  }
 },
 "nbformat": 4,
 "nbformat_minor": 5
}
