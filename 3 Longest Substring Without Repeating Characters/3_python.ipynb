{
 "cells": [
  {
   "cell_type": "markdown",
   "id": "0b4db5ae-f4fe-43d9-adac-8d528e4afd55",
   "metadata": {},
   "source": [
    "## 3. Longest Substring Without Repeating Characters\n",
    "\n",
    "Given a string `s`, find the length of the longest without duplicate characters.\n",
    "\n",
    "### Example\n",
    "Input: s = \"abcabcbb\"  \n",
    "Output: 3  \n",
    "Explanation: The answer is \"abc\", with the length of 3.  "
   ]
  },
  {
   "cell_type": "code",
   "execution_count": null,
   "id": "5d887163-bf15-486e-a702-1cd3dbeeacb9",
   "metadata": {},
   "outputs": [],
   "source": [
    "class Solution:\n",
    "    def lengthOfLongestSubstring(self, s: str) -> int:\n",
    "        "
   ]
  }
 ],
 "metadata": {
  "kernelspec": {
   "display_name": "Python 3 (ipykernel)",
   "language": "python",
   "name": "python3"
  },
  "language_info": {
   "codemirror_mode": {
    "name": "ipython",
    "version": 3
   },
   "file_extension": ".py",
   "mimetype": "text/x-python",
   "name": "python",
   "nbconvert_exporter": "python",
   "pygments_lexer": "ipython3",
   "version": "3.12.9"
  }
 },
 "nbformat": 4,
 "nbformat_minor": 5
}
