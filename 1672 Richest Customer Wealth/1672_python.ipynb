{
 "cells": [
  {
   "cell_type": "markdown",
   "id": "edd9f930-0132-4e6d-bf7f-77070986002f",
   "metadata": {},
   "source": [
    "## 1672 Richest Customer Wealth\n",
    "\n",
    "You are given an m x n integer grid accounts where accounts[i][j] is the amount of money the i​​​​​​​​​​​th​​​​ customer has in the j​​​​​​​​​​​th​​​​ bank. Return the wealth that the richest customer has.\n",
    "\n",
    "A customer's wealth is the amount of money they have in all their bank accounts. The richest customer is the customer that has the maximum wealth.\n",
    "\n",
    "Input: accounts = [[1,2,3],[3,2,1]]  \n",
    "Output: 6"
   ]
  },
  {
   "cell_type": "code",
   "execution_count": 15,
   "id": "2c0953f7-780c-43a8-bcfb-58b2ee1b17fe",
   "metadata": {},
   "outputs": [],
   "source": [
    "## Solution 1\n",
    "\n",
    "from typing import List\n",
    "\n",
    "class Solution:\n",
    "\n",
    "    def maximumSum(self, list_of_list: List[List[int]]) -> int:\n",
    "\n",
    "        max_sum = 0\n",
    "        \n",
    "        for inner_list in list_of_list:\n",
    "\n",
    "            current_sum = sum(inner_list)\n",
    "\n",
    "            if(current_sum > max_sum):\n",
    "\n",
    "                max_sum = current_sum\n",
    "\n",
    "        return max_sum"
   ]
  },
  {
   "cell_type": "code",
   "execution_count": null,
   "id": "f3e0a03f-4694-4cdc-851a-4edb994ba561",
   "metadata": {},
   "outputs": [],
   "source": [
    "%load_ext memory_profiler"
   ]
  },
  {
   "cell_type": "code",
   "execution_count": 12,
   "id": "2cd4025d-d85a-40cc-a815-e837ad441752",
   "metadata": {},
   "outputs": [
    {
     "name": "stdout",
     "output_type": "stream",
     "text": [
      "6\n",
      "peak memory: 69.75 MiB, increment: 0.00 MiB\n"
     ]
    }
   ],
   "source": [
    "%%memit\n",
    "\n",
    "solution = Solution()\n",
    "\n",
    "print(solution.maximumSum([[1,2,3],[3,2,1]]))"
   ]
  },
  {
   "cell_type": "code",
   "execution_count": 11,
   "id": "e4d030f2-368d-4b46-b510-b497f1685bac",
   "metadata": {},
   "outputs": [
    {
     "name": "stdout",
     "output_type": "stream",
     "text": [
      "6\n",
      "CPU times: user 99 μs, sys: 27 μs, total: 126 μs\n",
      "Wall time: 132 μs\n"
     ]
    }
   ],
   "source": [
    "%%time\n",
    "\n",
    "solution = Solution()\n",
    "\n",
    "print(solution.maximumSum([[1,2,3],[3,2,1]]))"
   ]
  },
  {
   "cell_type": "code",
   "execution_count": 17,
   "id": "ad627375-d1ce-4777-aeb1-d61a2a8cf4b0",
   "metadata": {},
   "outputs": [
    {
     "name": "stdout",
     "output_type": "stream",
     "text": [
      "Original Size: 79 bytes\n",
      "Compressed Size (Description Length): 93 bytes\n"
     ]
    }
   ],
   "source": [
    "## Runtime compression with gzip\n",
    "\n",
    "import gzip\n",
    "import pickle\n",
    "\n",
    "solution = Solution()\n",
    "\n",
    "function_bytes = pickle.dumps(solution.maximumSum)\n",
    "\n",
    "compressed_bytes = gzip.compress(function_bytes)\n",
    "description_length = len(compressed_bytes)\n",
    "\n",
    "print(f\"Original Size: {len(function_bytes)} bytes\")\n",
    "print(f\"Compressed Size (Description Length): {description_length} bytes\")"
   ]
  },
  {
   "cell_type": "code",
   "execution_count": 21,
   "id": "55a54884-73f4-48bb-8954-4b79ca550bef",
   "metadata": {},
   "outputs": [
    {
     "name": "stdout",
     "output_type": "stream",
     "text": [
      "Serialized: 5 bytes\n",
      "Compressed: 14 bytes\n"
     ]
    }
   ],
   "source": [
    "## Runtime compression with zstd\n",
    "\n",
    "import dill, zstandard as zstd\n",
    "\n",
    "solution = Solution()\n",
    "\n",
    "serialized = dill.dumps(solution.maximumSum([[1,2,3],[3,2,1]]))\n",
    "\n",
    "cctx = zstd.ZstdCompressor()\n",
    "compressed = cctx.compress(serialized)\n",
    "print(f\"Serialized: {len(serialized)} bytes\")\n",
    "print(f\"Compressed: {len(compressed)} bytes\")"
   ]
  },
  {
   "cell_type": "code",
   "execution_count": 28,
   "id": "c5185d8c-51ae-4fa9-bda5-24a648f77a9b",
   "metadata": {},
   "outputs": [
    {
     "name": "stdout",
     "output_type": "stream",
     "text": [
      "Serialized: 279 bytes\n",
      "Compressed: 163 bytes\n",
      "Compression ratio: 0.58\n"
     ]
    }
   ],
   "source": [
    "## Code compression with zstd\n",
    "\n",
    "import dill, zstandard as zstd\n",
    "\n",
    "code = \"\"\"def maximumSum(self, list_of_list: List[List[int]]) -> int:\n",
    "        max_sum = 0\n",
    "        for inner_list in list_of_list:\n",
    "            current_sum = sum(inner_list)\n",
    "            if(current_sum > max_sum):\n",
    "                max_sum = current_sum\n",
    "        return max_sum\"\"\".encode('utf-8')\n",
    "\n",
    "serialized = dill.dumps(code)\n",
    "\n",
    "cctx = zstd.ZstdCompressor()\n",
    "compressed = cctx.compress(serialized)\n",
    "ratio = len(compressed)/len(serialized)\n",
    "\n",
    "print(f\"Serialized: {len(serialized)} bytes\")\n",
    "print(f\"Compressed: {len(compressed)} bytes\")\n",
    "print(f\"Compression ratio: {ratio:.2f}\")"
   ]
  }
 ],
 "metadata": {
  "kernelspec": {
   "display_name": "Python 3 (ipykernel)",
   "language": "python",
   "name": "python3"
  },
  "language_info": {
   "codemirror_mode": {
    "name": "ipython",
    "version": 3
   },
   "file_extension": ".py",
   "mimetype": "text/x-python",
   "name": "python",
   "nbconvert_exporter": "python",
   "pygments_lexer": "ipython3",
   "version": "3.12.9"
  }
 },
 "nbformat": 4,
 "nbformat_minor": 5
}
