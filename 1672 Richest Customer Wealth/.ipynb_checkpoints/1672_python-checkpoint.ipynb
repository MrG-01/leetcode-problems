{
 "cells": [
  {
   "cell_type": "markdown",
   "id": "edd9f930-0132-4e6d-bf7f-77070986002f",
   "metadata": {},
   "source": [
    "## 1672 Richest Customer Wealth\n",
    "\n",
    "You are given an m x n integer grid accounts where accounts[i][j] is the amount of money the i​​​​​​​​​​​th​​​​ customer has in the j​​​​​​​​​​​th​​​​ bank. Return the wealth that the richest customer has.\n",
    "\n",
    "A customer's wealth is the amount of money they have in all their bank accounts. The richest customer is the customer that has the maximum wealth.\n",
    "\n",
    "Input: accounts = [[1,2,3],[3,2,1]]  \n",
    "Output: 6"
   ]
  },
  {
   "cell_type": "code",
   "execution_count": 8,
   "id": "2c0953f7-780c-43a8-bcfb-58b2ee1b17fe",
   "metadata": {},
   "outputs": [],
   "source": [
    "## Solution 1\n",
    "\n",
    "from typing import List\n",
    "\n",
    "class Solution:\n",
    "\n",
    "    def maximumSum(self, list_of_list: List[List[int]]) -> int:\n",
    "\n",
    "        max_sum = 0\n",
    "        \n",
    "        for inner_list in list_of_list:\n",
    "\n",
    "            current_sum = sum(inner_list)\n",
    "\n",
    "            if(current_sum > max_sum):\n",
    "\n",
    "                max_sum = current_sum\n",
    "\n",
    "        return max_sum"
   ]
  },
  {
   "cell_type": "code",
   "execution_count": 9,
   "id": "2cd4025d-d85a-40cc-a815-e837ad441752",
   "metadata": {},
   "outputs": [
    {
     "name": "stdout",
     "output_type": "stream",
     "text": [
      "6\n"
     ]
    }
   ],
   "source": [
    "solution = Solution()\n",
    "\n",
    "print(solution.maximumSum([[1,2,3],[3,2,1]]))"
   ]
  }
 ],
 "metadata": {
  "kernelspec": {
   "display_name": "Python 3 (ipykernel)",
   "language": "python",
   "name": "python3"
  },
  "language_info": {
   "codemirror_mode": {
    "name": "ipython",
    "version": 3
   },
   "file_extension": ".py",
   "mimetype": "text/x-python",
   "name": "python",
   "nbconvert_exporter": "python",
   "pygments_lexer": "ipython3",
   "version": "3.12.9"
  }
 },
 "nbformat": 4,
 "nbformat_minor": 5
}
