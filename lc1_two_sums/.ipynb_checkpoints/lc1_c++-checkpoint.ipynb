{
 "cells": [
  {
   "cell_type": "markdown",
   "id": "9f000d59-8b94-4bea-a731-8504c173b953",
   "metadata": {},
   "source": [
    "### LC1: Given an array of integers `nums` and an integer `target`, return indices of the two numbers such that they add up to target."
   ]
  },
  {
   "cell_type": "markdown",
   "id": "a9c5fab4-4434-4874-92bf-3c39f8b0641c",
   "metadata": {},
   "source": [
    "### Solution 1"
   ]
  },
  {
   "cell_type": "code",
   "execution_count": 1,
   "id": "e1a7c618-b917-489e-a51f-8cff52702644",
   "metadata": {},
   "outputs": [],
   "source": [
    "#include <iostream>"
   ]
  }
 ],
 "metadata": {
  "kernelspec": {
   "display_name": "C++17",
   "language": "C++17",
   "name": "xcpp17"
  },
  "language_info": {
   "codemirror_mode": "text/x-c++src",
   "file_extension": ".cpp",
   "mimetype": "text/x-c++src",
   "name": "c++",
   "version": "17"
  }
 },
 "nbformat": 4,
 "nbformat_minor": 5
}
